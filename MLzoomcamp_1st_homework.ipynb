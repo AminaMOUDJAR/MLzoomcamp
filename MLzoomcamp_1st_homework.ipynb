{
  "nbformat": 4,
  "nbformat_minor": 0,
  "metadata": {
    "colab": {
      "provenance": []
    },
    "kernelspec": {
      "name": "python3",
      "display_name": "Python 3"
    },
    "language_info": {
      "name": "python"
    }
  },
  "cells": [
    {
      "cell_type": "code",
      "execution_count": null,
      "metadata": {
        "id": "ymp8daDkZR-l"
      },
      "outputs": [],
      "source": [
        "import pandas as pd"
      ]
    },
    {
      "cell_type": "code",
      "source": [
        "print(pd.__version__)\n",
        "\n",
        "df = pd.read_csv('https://raw.githubusercontent.com/alexeygrigorev/datasets/master/housing.csv')\n",
        "print(df.head())"
      ],
      "metadata": {
        "colab": {
          "base_uri": "https://localhost:8080/"
        },
        "id": "APhgAVHxZV4d",
        "outputId": "62eefcc8-1c9e-4f43-da2a-c3b3e09feaa5"
      },
      "execution_count": null,
      "outputs": [
        {
          "output_type": "stream",
          "name": "stdout",
          "text": [
            "1.5.3\n",
            "   longitude  latitude  housing_median_age  total_rooms  total_bedrooms  \\\n",
            "0    -122.23     37.88                41.0        880.0           129.0   \n",
            "1    -122.22     37.86                21.0       7099.0          1106.0   \n",
            "2    -122.24     37.85                52.0       1467.0           190.0   \n",
            "3    -122.25     37.85                52.0       1274.0           235.0   \n",
            "4    -122.25     37.85                52.0       1627.0           280.0   \n",
            "\n",
            "   population  households  median_income  median_house_value ocean_proximity  \n",
            "0       322.0       126.0         8.3252            452600.0        NEAR BAY  \n",
            "1      2401.0      1138.0         8.3014            358500.0        NEAR BAY  \n",
            "2       496.0       177.0         7.2574            352100.0        NEAR BAY  \n",
            "3       558.0       219.0         5.6431            341300.0        NEAR BAY  \n",
            "4       565.0       259.0         3.8462            342200.0        NEAR BAY  \n"
          ]
        }
      ]
    },
    {
      "cell_type": "code",
      "source": [
        "\n",
        "\n",
        "\n",
        "# Filtering the data to only include rows where 'ocean_proximity' is \"NEAR BAY\"\n",
        "filtered_df = df[df['ocean_proximity'] == 'NEAR BAY']\n",
        "\n",
        "# Calculating the average value of 'median_house_value' for those rows\n",
        "average_value = filtered_df['median_house_value'].mean()\n",
        "print(f\"The average value of 'median_house_value' for houses near the bay is {average_value:.2f}\")\n"
      ],
      "metadata": {
        "colab": {
          "base_uri": "https://localhost:8080/"
        },
        "id": "FLGyRFF9awSn",
        "outputId": "090ce22c-6bfa-4ee2-e100-484a9f80f671"
      },
      "execution_count": null,
      "outputs": [
        {
          "output_type": "stream",
          "name": "stdout",
          "text": [
            "The average value of 'median_house_value' for houses near the bay is 369340.00\n"
          ]
        }
      ]
    },
    {
      "cell_type": "code",
      "source": [
        "# Step 1: Calculate the average of 'total_bedrooms'\n",
        "initial_mean = df['total_bedrooms'].mean()\n",
        "print(f\"Initial average of total_bedrooms: {initial_mean}\")\n",
        "\n",
        "# Step 2: Fill missing values with the mean\n",
        "df['total_bedrooms'].fillna(initial_mean, inplace=True)\n",
        "\n",
        "# Step 3: Calculate the average of 'total_bedrooms' again\n",
        "new_mean = df['total_bedrooms'].mean()\n",
        "print(f\"New average of total_bedrooms: {new_mean}\")\n",
        "\n",
        "# Step 4: Check if the average has changed\n",
        "if initial_mean == new_mean:\n",
        "    print(\"The average has not changed.\")\n",
        "else:\n",
        "    print(\"The average has changed.\")"
      ],
      "metadata": {
        "colab": {
          "base_uri": "https://localhost:8080/"
        },
        "id": "U3rHEa9wcw32",
        "outputId": "9b3a882e-ef8f-4133-972f-374cbf6a94ea"
      },
      "execution_count": null,
      "outputs": [
        {
          "output_type": "stream",
          "name": "stdout",
          "text": [
            "Initial average of total_bedrooms: 388.0\n",
            "New average of total_bedrooms: 388.0\n",
            "The average has not changed.\n"
          ]
        }
      ]
    },
    {
      "cell_type": "code",
      "source": [
        "import numpy as np\n",
        "\n",
        "# Select only columns 'housing_median_age', 'total_rooms', 'total_bedrooms'\n",
        "df_selected = df[['housing_median_age', 'total_rooms', 'total_bedrooms']].head(5)  # Limit to 5 rows to match y\n",
        "\n",
        "# Get the underlying NumPy array from the DataFrame\n",
        "X = df_selected.to_numpy()\n",
        "\n",
        "# Compute XTX\n",
        "XTX = np.dot(X.T, X)\n",
        "\n",
        "# Compute the inverse of XTX\n",
        "XTX_inv = np.linalg.inv(XTX)\n",
        "\n",
        "# Create an array y with values [950, 1300, 800, 1000, 1300]\n",
        "y = np.array([950, 1300, 800, 1000, 1300])\n",
        "\n",
        "# Calculate w\n",
        "w = np.dot(np.dot(XTX_inv, X.T), y)\n",
        "\n",
        "# Get the value of the last element of w\n",
        "last_element_w = w[-1]\n",
        "print(f\"The value of the last element of w is {last_element_w}\")"
      ],
      "metadata": {
        "colab": {
          "base_uri": "https://localhost:8080/"
        },
        "id": "uJAsVZ3DdHfL",
        "outputId": "b1644f4c-2c91-4c55-acf3-0a57ca5161ba"
      },
      "execution_count": null,
      "outputs": [
        {
          "output_type": "stream",
          "name": "stdout",
          "text": [
            "The value of the last element of w is 3.7530324300396427\n"
          ]
        }
      ]
    }
  ]
}